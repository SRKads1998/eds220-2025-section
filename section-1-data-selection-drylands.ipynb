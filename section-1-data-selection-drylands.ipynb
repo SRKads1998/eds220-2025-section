{
 "cells": [
  {
   "cell_type": "markdown",
   "id": "8872b3fa-0c1b-4cd6-8f48-6657b5e661e8",
   "metadata": {},
   "source": [
    "### Week 1 Section Excersize \n",
    "\n",
    "#### Prey Species in California Drylands"
   ]
  }
 ],
 "metadata": {
  "kernelspec": {
   "display_name": "EDS220",
   "language": "python",
   "name": "eds220-env"
  },
  "language_info": {
   "codemirror_mode": {
    "name": "ipython",
    "version": 3
   },
   "file_extension": ".py",
   "mimetype": "text/x-python",
   "name": "python",
   "nbconvert_exporter": "python",
   "pygments_lexer": "ipython3",
   "version": "3.11.4"
  }
 },
 "nbformat": 4,
 "nbformat_minor": 5
}
